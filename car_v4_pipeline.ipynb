{
 "cells": [
  {
   "cell_type": "markdown",
   "metadata": {},
   "source": [
    "# Introduction:\n",
    "This is a multilabel classification example. The aim of this machine learning project is predict acceptability of car..\n",
    "\n",
    "# What Is Machine Learning Pipeline?\n",
    "\n",
    "Machine learning pipeline is used to help automate machine learning workflows. They operate by enabling a sequence of data to be transformed and correlated together in a model that can be tested and evaluated to achieve an outcome.\n",
    "\n",
    "# Algorithm:\n",
    "\n",
    "SVM and Random Forest."
   ]
  },
  {
   "cell_type": "code",
   "execution_count": 1,
   "metadata": {
    "ExecuteTime": {
     "end_time": "2020-01-02T11:10:01.817282Z",
     "start_time": "2020-01-02T11:09:47.690944Z"
    }
   },
   "outputs": [],
   "source": [
    "import pandas as pd\n",
    "import pandas_profiling\n",
    "import numpy as np\n",
    "\n",
    "from sklearn.impute import SimpleImputer\n",
    "from sklearn.preprocessing import OneHotEncoder,StandardScaler\n",
    "from sklearn.pipeline import Pipeline\n",
    "from sklearn.compose import ColumnTransformer\n",
    "\n",
    "from sklearn import model_selection\n",
    "from sklearn.model_selection import GridSearchCV\n",
    "\n",
    "k_fold = model_selection.KFold(n_splits=5, random_state=123)\n",
    "from sklearn.svm import SVC\n",
    "\n",
    "import seaborn as sns\n",
    "import matplotlib.pyplot as plt\n",
    "from mpl_toolkits.mplot3d import Axes3D\n",
    "%matplotlib inline\n",
    "\n",
    "from joblib import dump, load"
   ]
  },
  {
   "cell_type": "markdown",
   "metadata": {},
   "source": [
    "# 1. Data Preparation\n",
    "## 1.1 Import Car Evaluation Dataset"
   ]
  },
  {
   "cell_type": "code",
   "execution_count": 2,
   "metadata": {
    "ExecuteTime": {
     "end_time": "2020-01-02T11:10:30.934765Z",
     "start_time": "2020-01-02T11:10:30.876780Z"
    }
   },
   "outputs": [
    {
     "data": {
      "text/html": [
       "<div>\n",
       "<style scoped>\n",
       "    .dataframe tbody tr th:only-of-type {\n",
       "        vertical-align: middle;\n",
       "    }\n",
       "\n",
       "    .dataframe tbody tr th {\n",
       "        vertical-align: top;\n",
       "    }\n",
       "\n",
       "    .dataframe thead th {\n",
       "        text-align: right;\n",
       "    }\n",
       "</style>\n",
       "<table border=\"1\" class=\"dataframe\">\n",
       "  <thead>\n",
       "    <tr style=\"text-align: right;\">\n",
       "      <th></th>\n",
       "      <th>buying_price</th>\n",
       "      <th>maintenance_cost</th>\n",
       "      <th>number_of_doors</th>\n",
       "      <th>number_of_persons</th>\n",
       "      <th>lug_boot</th>\n",
       "      <th>safety</th>\n",
       "      <th>decision</th>\n",
       "    </tr>\n",
       "  </thead>\n",
       "  <tbody>\n",
       "    <tr>\n",
       "      <th>0</th>\n",
       "      <td>vhigh</td>\n",
       "      <td>vhigh</td>\n",
       "      <td>2</td>\n",
       "      <td>2</td>\n",
       "      <td>small</td>\n",
       "      <td>low</td>\n",
       "      <td>unacc</td>\n",
       "    </tr>\n",
       "    <tr>\n",
       "      <th>1</th>\n",
       "      <td>vhigh</td>\n",
       "      <td>vhigh</td>\n",
       "      <td>2</td>\n",
       "      <td>2</td>\n",
       "      <td>small</td>\n",
       "      <td>med</td>\n",
       "      <td>unacc</td>\n",
       "    </tr>\n",
       "    <tr>\n",
       "      <th>2</th>\n",
       "      <td>vhigh</td>\n",
       "      <td>vhigh</td>\n",
       "      <td>2</td>\n",
       "      <td>2</td>\n",
       "      <td>small</td>\n",
       "      <td>high</td>\n",
       "      <td>unacc</td>\n",
       "    </tr>\n",
       "  </tbody>\n",
       "</table>\n",
       "</div>"
      ],
      "text/plain": [
       "  buying_price maintenance_cost number_of_doors number_of_persons lug_boot  \\\n",
       "0        vhigh            vhigh               2                 2    small   \n",
       "1        vhigh            vhigh               2                 2    small   \n",
       "2        vhigh            vhigh               2                 2    small   \n",
       "\n",
       "  safety decision  \n",
       "0    low    unacc  \n",
       "1    med    unacc  \n",
       "2   high    unacc  "
      ]
     },
     "execution_count": 2,
     "metadata": {},
     "output_type": "execute_result"
    }
   ],
   "source": [
    "df = pd.read_csv(r'C:\\Users\\user\\Desktop\\Data_Science\\Car\\car_evaluation.csv')  \n",
    "# show first 3 rows\n",
    "df.head(3)"
   ]
  },
  {
   "cell_type": "code",
   "execution_count": 6,
   "metadata": {
    "ExecuteTime": {
     "end_time": "2020-01-02T11:19:23.766587Z",
     "start_time": "2020-01-02T11:19:12.567759Z"
    }
   },
   "outputs": [
    {
     "ename": "TypeError",
     "evalue": "'ProfileReport' object is not subscriptable",
     "output_type": "error",
     "traceback": [
      "\u001b[1;31m---------------------------------------------------------------------------\u001b[0m",
      "\u001b[1;31mTypeError\u001b[0m                                 Traceback (most recent call last)",
      "\u001b[1;32m<ipython-input-6-0bb9748cdba4>\u001b[0m in \u001b[0;36m<module>\u001b[1;34m\u001b[0m\n\u001b[0;32m      1\u001b[0m \u001b[0mreport\u001b[0m \u001b[1;33m=\u001b[0m \u001b[0mpandas_profiling\u001b[0m\u001b[1;33m.\u001b[0m\u001b[0mProfileReport\u001b[0m\u001b[1;33m(\u001b[0m\u001b[0mdf\u001b[0m\u001b[1;33m)\u001b[0m\u001b[1;33m\u001b[0m\u001b[1;33m\u001b[0m\u001b[0m\n\u001b[1;32m----> 2\u001b[1;33m \u001b[1;32mfrom\u001b[0m \u001b[0mIPython\u001b[0m\u001b[1;33m.\u001b[0m\u001b[0mcore\u001b[0m\u001b[1;33m.\u001b[0m\u001b[0mdisplay\u001b[0m \u001b[1;32mimport\u001b[0m \u001b[0mdisplay\u001b[0m\u001b[1;33m,\u001b[0m \u001b[0mHTML\u001b[0m\u001b[1;33m;\u001b[0m\u001b[0mdisplay\u001b[0m\u001b[1;33m(\u001b[0m\u001b[0mHTML\u001b[0m\u001b[1;33m(\u001b[0m\u001b[0mreport\u001b[0m\u001b[1;33m)\u001b[0m\u001b[1;33m)\u001b[0m\u001b[1;33m\u001b[0m\u001b[1;33m\u001b[0m\u001b[0m\n\u001b[0m",
      "\u001b[1;32m~\\Anaconda3\\lib\\site-packages\\IPython\\core\\display.py\u001b[0m in \u001b[0;36m__init__\u001b[1;34m(self, data, url, filename, metadata)\u001b[0m\n\u001b[0;32m    691\u001b[0m             \u001b[1;32mreturn\u001b[0m \u001b[0mprefix\u001b[0m\u001b[1;33m.\u001b[0m\u001b[0mstartswith\u001b[0m\u001b[1;33m(\u001b[0m\u001b[1;34m\"<iframe \"\u001b[0m\u001b[1;33m)\u001b[0m \u001b[1;32mand\u001b[0m \u001b[0msuffix\u001b[0m\u001b[1;33m.\u001b[0m\u001b[0mendswith\u001b[0m\u001b[1;33m(\u001b[0m\u001b[1;34m\"</iframe>\"\u001b[0m\u001b[1;33m)\u001b[0m\u001b[1;33m\u001b[0m\u001b[1;33m\u001b[0m\u001b[0m\n\u001b[0;32m    692\u001b[0m \u001b[1;33m\u001b[0m\u001b[0m\n\u001b[1;32m--> 693\u001b[1;33m         \u001b[1;32mif\u001b[0m \u001b[0mwarn\u001b[0m\u001b[1;33m(\u001b[0m\u001b[1;33m)\u001b[0m\u001b[1;33m:\u001b[0m\u001b[1;33m\u001b[0m\u001b[1;33m\u001b[0m\u001b[0m\n\u001b[0m\u001b[0;32m    694\u001b[0m             \u001b[0mwarnings\u001b[0m\u001b[1;33m.\u001b[0m\u001b[0mwarn\u001b[0m\u001b[1;33m(\u001b[0m\u001b[1;34m\"Consider using IPython.display.IFrame instead\"\u001b[0m\u001b[1;33m)\u001b[0m\u001b[1;33m\u001b[0m\u001b[1;33m\u001b[0m\u001b[0m\n\u001b[0;32m    695\u001b[0m         \u001b[0msuper\u001b[0m\u001b[1;33m(\u001b[0m\u001b[0mHTML\u001b[0m\u001b[1;33m,\u001b[0m \u001b[0mself\u001b[0m\u001b[1;33m)\u001b[0m\u001b[1;33m.\u001b[0m\u001b[0m__init__\u001b[0m\u001b[1;33m(\u001b[0m\u001b[0mdata\u001b[0m\u001b[1;33m=\u001b[0m\u001b[0mdata\u001b[0m\u001b[1;33m,\u001b[0m \u001b[0murl\u001b[0m\u001b[1;33m=\u001b[0m\u001b[0murl\u001b[0m\u001b[1;33m,\u001b[0m \u001b[0mfilename\u001b[0m\u001b[1;33m=\u001b[0m\u001b[0mfilename\u001b[0m\u001b[1;33m,\u001b[0m \u001b[0mmetadata\u001b[0m\u001b[1;33m=\u001b[0m\u001b[0mmetadata\u001b[0m\u001b[1;33m)\u001b[0m\u001b[1;33m\u001b[0m\u001b[1;33m\u001b[0m\u001b[0m\n",
      "\u001b[1;32m~\\Anaconda3\\lib\\site-packages\\IPython\\core\\display.py\u001b[0m in \u001b[0;36mwarn\u001b[1;34m()\u001b[0m\n\u001b[0;32m    687\u001b[0m             \u001b[1;31m# long string and we're only interested in its beginning and end.\u001b[0m\u001b[1;33m\u001b[0m\u001b[1;33m\u001b[0m\u001b[1;33m\u001b[0m\u001b[0m\n\u001b[0;32m    688\u001b[0m             \u001b[1;31m#\u001b[0m\u001b[1;33m\u001b[0m\u001b[1;33m\u001b[0m\u001b[1;33m\u001b[0m\u001b[0m\n\u001b[1;32m--> 689\u001b[1;33m             \u001b[0mprefix\u001b[0m \u001b[1;33m=\u001b[0m \u001b[0mdata\u001b[0m\u001b[1;33m[\u001b[0m\u001b[1;33m:\u001b[0m\u001b[1;36m10\u001b[0m\u001b[1;33m]\u001b[0m\u001b[1;33m.\u001b[0m\u001b[0mlower\u001b[0m\u001b[1;33m(\u001b[0m\u001b[1;33m)\u001b[0m\u001b[1;33m\u001b[0m\u001b[1;33m\u001b[0m\u001b[0m\n\u001b[0m\u001b[0;32m    690\u001b[0m             \u001b[0msuffix\u001b[0m \u001b[1;33m=\u001b[0m \u001b[0mdata\u001b[0m\u001b[1;33m[\u001b[0m\u001b[1;33m-\u001b[0m\u001b[1;36m10\u001b[0m\u001b[1;33m:\u001b[0m\u001b[1;33m]\u001b[0m\u001b[1;33m.\u001b[0m\u001b[0mlower\u001b[0m\u001b[1;33m(\u001b[0m\u001b[1;33m)\u001b[0m\u001b[1;33m\u001b[0m\u001b[1;33m\u001b[0m\u001b[0m\n\u001b[0;32m    691\u001b[0m             \u001b[1;32mreturn\u001b[0m \u001b[0mprefix\u001b[0m\u001b[1;33m.\u001b[0m\u001b[0mstartswith\u001b[0m\u001b[1;33m(\u001b[0m\u001b[1;34m\"<iframe \"\u001b[0m\u001b[1;33m)\u001b[0m \u001b[1;32mand\u001b[0m \u001b[0msuffix\u001b[0m\u001b[1;33m.\u001b[0m\u001b[0mendswith\u001b[0m\u001b[1;33m(\u001b[0m\u001b[1;34m\"</iframe>\"\u001b[0m\u001b[1;33m)\u001b[0m\u001b[1;33m\u001b[0m\u001b[1;33m\u001b[0m\u001b[0m\n",
      "\u001b[1;31mTypeError\u001b[0m: 'ProfileReport' object is not subscriptable"
     ]
    }
   ],
   "source": [
    "report = pandas_profiling.ProfileReport(df)\n",
    "from IPython.core.display import display, HTML;display(HTML(report))"
   ]
  },
  {
   "cell_type": "markdown",
   "metadata": {},
   "source": [
    "## 1.2 Data Exploration\n",
    "\n",
    "### 1.2.1. Target Variable (Y) --- decision\n",
    "\n",
    "In this dataset, \"decision\" variable refer to car acceptability.\n",
    "\n",
    "Note that it is an imbalanced dataset. Imbalance means that the number of data points available for different the classes is different.\n",
    "\n",
    "For imbalanced dataset, we need to pay attention to classification performance method."
   ]
  },
  {
   "cell_type": "code",
   "execution_count": 55,
   "metadata": {
    "ExecuteTime": {
     "end_time": "2019-12-02T17:06:38.565154Z",
     "start_time": "2019-12-02T17:06:38.424565Z"
    }
   },
   "outputs": [
    {
     "data": {
      "image/png": "[encoded data removed]",
      "text/plain": [
       "<Figure size 432x288 with 1 Axes>"
      ]
     },
     "metadata": {
      "needs_background": "light"
     },
     "output_type": "display_data"
    }
   ],
   "source": [
    "Y = df['decision']\n",
    "ax = sns.countplot(Y)"
   ]
  },
  {
   "cell_type": "markdown",
   "metadata": {},
   "source": [
    "### 1.2.2. Numeric Feature & Categorical Feature (X)"
   ]
  },
  {
   "cell_type": "code",
   "execution_count": 56,
   "metadata": {
    "ExecuteTime": {
     "end_time": "2019-12-02T17:06:38.580116Z",
     "start_time": "2019-12-02T17:06:38.567149Z"
    }
   },
   "outputs": [
    {
     "name": "stdout",
     "output_type": "stream",
     "text": [
      "There are 1728 rows and 6 feature(s) in dataset.\n",
      "-----------------------------------------------------------------------\n",
      "Number of numeric feature(s): 0\n",
      "Variable(s) name: Index([], dtype='object')\n",
      "-----------------------------------------------------------------------\n",
      "Number of categorical feature(s): 6\n",
      "Variable(s) name: Index(['buying_price', 'maintenance_cost', 'number_of_doors',\n",
      "       'number_of_persons', 'lug_boot', 'safety'],\n",
      "      dtype='object')\n"
     ]
    }
   ],
   "source": [
    "X = df.drop('decision', axis=1)\n",
    "numeric_features = X.select_dtypes(include=['int64', 'float64']).columns\n",
    "categorical_features = X.select_dtypes(include=['object']).columns\n",
    "\n",
    "print(\"There are\",X.shape[0], \"rows and\" , X.shape[1] , \"feature(s) in dataset.\")\n",
    "print(\"-----------------------------------------------------------------------\")\n",
    "\n",
    "print(\"Number of numeric feature(s):\",numeric_features.shape[0])\n",
    "print(\"Variable(s) name:\",numeric_features)\n",
    "print(\"-----------------------------------------------------------------------\")\n",
    "\n",
    "print(\"Number of categorical feature(s):\",categorical_features.shape[0])\n",
    "print(\"Variable(s) name:\",categorical_features)"
   ]
  },
  {
   "cell_type": "code",
   "execution_count": 57,
   "metadata": {
    "ExecuteTime": {
     "end_time": "2019-12-02T17:06:38.588094Z",
     "start_time": "2019-12-02T17:06:38.581112Z"
    }
   },
   "outputs": [
    {
     "name": "stdout",
     "output_type": "stream",
     "text": [
      "There is no numeric feature, skip this part\n"
     ]
    }
   ],
   "source": [
    "if numeric_features.shape[0] > 0:\n",
    "    print(df[numeric_features].describe())\n",
    "else:\n",
    "    print(\"There is no numeric feature, skip this part\")"
   ]
  },
  {
   "cell_type": "code",
   "execution_count": 58,
   "metadata": {
    "ExecuteTime": {
     "end_time": "2019-12-02T17:06:38.623996Z",
     "start_time": "2019-12-02T17:06:38.591084Z"
    }
   },
   "outputs": [
    {
     "name": "stdout",
     "output_type": "stream",
     "text": [
      "       buying_price maintenance_cost number_of_doors number_of_persons  \\\n",
      "count          1728             1728            1728              1728   \n",
      "unique            4                4               4                 3   \n",
      "top             low              low               2                 2   \n",
      "freq            432              432             432               576   \n",
      "\n",
      "       lug_boot safety  \n",
      "count      1728   1728  \n",
      "unique        3      3  \n",
      "top       small    low  \n",
      "freq        576    576  \n"
     ]
    }
   ],
   "source": [
    "if categorical_features.shape[0] > 0:\n",
    "    print(df[categorical_features].describe())\n",
    "else:\n",
    "    print(\"There is no categorical feature, skip this part\")"
   ]
  },
  {
   "cell_type": "markdown",
   "metadata": {},
   "source": [
    "# 2. Preprocessing of Machine Learning\n",
    "\n",
    "## 2.1. Handling Missing Value\n",
    "\n",
    "if there are missing values, impute missing values before building an estimator. For numeric feature and categorical feature, impute missing value with median and \"missing\" respectively. In this dataset, there are no missing values. "
   ]
  },
  {
   "cell_type": "code",
   "execution_count": 59,
   "metadata": {
    "ExecuteTime": {
     "end_time": "2019-12-02T17:06:38.637005Z",
     "start_time": "2019-12-02T17:06:38.626991Z"
    }
   },
   "outputs": [
    {
     "name": "stdout",
     "output_type": "stream",
     "text": [
      "                   Missing Value Count\n",
      "Feature                               \n",
      "decision                             0\n",
      "safety                               0\n",
      "lug_boot                             0\n",
      "number_of_persons                    0\n",
      "number_of_doors                      0\n",
      "maintenance_cost                     0\n",
      "buying_price                         0\n"
     ]
    }
   ],
   "source": [
    "nulls = pd.DataFrame(df.isnull().sum().sort_values(ascending=False))\n",
    "nulls.columns = ['Missing Value Count']\n",
    "nulls.index.name = 'Feature'\n",
    "print(nulls)"
   ]
  },
  {
   "cell_type": "markdown",
   "metadata": {},
   "source": [
    "## 2.2.  Standardization of Numeric Feature\n",
    "\n",
    "Standardize features by removing the mean and scaling to unit variance."
   ]
  },
  {
   "cell_type": "markdown",
   "metadata": {},
   "source": [
    "## 2.3. OneHot Encoding of Categorical Feature\n",
    "\n",
    "One-hot encoding can be applied to the integer representation. This is where the integer encoded variable is removed and a new binary variable is added for each unique integer value."
   ]
  },
  {
   "cell_type": "code",
   "execution_count": 60,
   "metadata": {
    "ExecuteTime": {
     "end_time": "2019-12-02T17:06:38.643973Z",
     "start_time": "2019-12-02T17:06:38.637990Z"
    }
   },
   "outputs": [],
   "source": [
    "# Define funcation to store encoded column name\n",
    "def get_feature_names(columnTransformer):\n",
    "\n",
    "    output_features = []\n",
    "\n",
    "    for name, pipe, features in columnTransformer.transformers_:\n",
    "        if name!='remainder':\n",
    "            for i in pipe:\n",
    "                trans_features = []\n",
    "                if hasattr(i,'categories_'):\n",
    "                    trans_features.extend(i.get_feature_names(features))\n",
    "                else:\n",
    "                    trans_features = features\n",
    "            output_features.extend(trans_features)\n",
    "\n",
    "    return output_features"
   ]
  },
  {
   "cell_type": "code",
   "execution_count": 61,
   "metadata": {
    "ExecuteTime": {
     "end_time": "2019-12-02T17:06:38.652963Z",
     "start_time": "2019-12-02T17:06:38.646934Z"
    },
    "code_folding": []
   },
   "outputs": [],
   "source": [
    "# Preprocessing\n",
    "numeric_transformer = Pipeline(steps=[\n",
    "    ('imputer', SimpleImputer(strategy='median')),\n",
    "    ('scaler', StandardScaler())])\n",
    "\n",
    "categorical_transformer = Pipeline(steps=[\n",
    "    ('imputer', SimpleImputer(strategy='constant', fill_value='missing')),\n",
    "    ('onehot', OneHotEncoder(handle_unknown='ignore'))])\n",
    "\n",
    "preprocessor = ColumnTransformer(\n",
    "    transformers=[\n",
    "        ('num', numeric_transformer, numeric_features),\n",
    "        ('cat', categorical_transformer, categorical_features)],\n",
    "    remainder='passthrough')"
   ]
  },
  {
   "cell_type": "code",
   "execution_count": 83,
   "metadata": {
    "ExecuteTime": {
     "end_time": "2019-12-02T17:31:35.253170Z",
     "start_time": "2019-12-02T17:31:35.241207Z"
    }
   },
   "outputs": [
    {
     "name": "stdout",
     "output_type": "stream",
     "text": [
      "['buying_price_high', 'buying_price_low', 'buying_price_med', 'buying_price_vhigh', 'maintenance_cost_high', 'maintenance_cost_low', 'maintenance_cost_med', 'maintenance_cost_vhigh', 'number_of_doors_2', 'number_of_doors_3', 'number_of_doors_4', 'number_of_doors_5more', 'number_of_persons_2', 'number_of_persons_4', 'number_of_persons_more', 'lug_boot_big', 'lug_boot_med', 'lug_boot_small', 'safety_high', 'safety_low', 'safety_med']\n"
     ]
    }
   ],
   "source": [
    "preprocessor.fit(X)\n",
    "encoded_feature_names = get_feature_names(preprocessor)\n",
    "print(encoded_feature_names)"
   ]
  },
  {
   "cell_type": "markdown",
   "metadata": {},
   "source": [
    "# 3. Classification Model Setting\n",
    "\n",
    "The following setting will be applied in each classification model."
   ]
  },
  {
   "cell_type": "markdown",
   "metadata": {},
   "source": [
    "## 3.1. Model Validation\n",
    "\n",
    "To aviod overfitting or underfitting problem, 5-folds cross-validation has applied.\n",
    "\n",
    "The data set is split into 5 folds. In the first iteration, the first fold is used to test the model and the rest are used to train the model. This process is repeated until each fold of the 5 folds have been used as the testing set."
   ]
  },
  {
   "cell_type": "code",
   "execution_count": 63,
   "metadata": {
    "ExecuteTime": {
     "end_time": "2019-12-02T17:06:38.677878Z",
     "start_time": "2019-12-02T17:06:38.670876Z"
    }
   },
   "outputs": [],
   "source": [
    "from sklearn import model_selection\n",
    "from sklearn.model_selection import GridSearchCV\n",
    "\n",
    "k_fold = model_selection.KFold(n_splits=5, random_state=123)"
   ]
  },
  {
   "cell_type": "markdown",
   "metadata": {},
   "source": [
    "## 3.2. Model Optimization\n",
    "\n",
    "Turning model parameters with grid search.\n",
    "\n",
    "## 3.3. Model Evaluation\n",
    "\n",
    "The model selection criteria is balanced F-score in testing data.\n",
    "\n",
    "The F1 score can be interpreted as a weighted average of the precision and recall, where an F1 score reaches its best value at 1 and worst score at 0. \n",
    "\n",
    "Calculate metrics for each label, and find their average weighted by support (the number of true instances for each label). It can solve imbanlance dataset problem.\n",
    "\n",
    "## 3.4. Speed up Training Time\n",
    "\n",
    "Multiprocessing module to parallelize execution onto several Python processes by passing n_jobs = -2 as argument.\n",
    "\n",
    "n_jobs = -2, all CPUs but one are used."
   ]
  },
  {
   "cell_type": "markdown",
   "metadata": {},
   "source": [
    "## 4. Support Vector Machine (SVM)\n",
    "\n",
    "SVM find a hyperplane in an N-dimensional space(N — the number of features) that distinctly classifies the data points.\n",
    "\n",
    "There are 4 common kernel function, include linear, polynomial, rbf and sigmoid. \n",
    "\n",
    "In general, the RBF kernel is a reasonable first choice. This kernel nonlinearly maps samples into a higher dimensional space so it, unlike the linear kernel, can handle the\n",
    "case when the relation between class labels and attributes is nonlinear.\n",
    "\n",
    "https://scikit-learn.org/stable/modules/svm.html#svm-kernels\n",
    "\n",
    "## 4.1  Turning Model Parameters with Grid Search\n",
    "\n",
    "In SVM model, there are 2 parameters.\n",
    "\n",
    "Cost: which controls training errors and margins. Small cost creates a large margin (a soft margin) and allows more misclassifications, and vice versa.\n",
    "\n",
    "Gamma: how far the influence of a single training example reaches, with low values meaning ‘far’ and high values meaning ‘close’."
   ]
  },
  {
   "cell_type": "code",
   "execution_count": 64,
   "metadata": {
    "ExecuteTime": {
     "end_time": "2019-12-02T17:06:38.686828Z",
     "start_time": "2019-12-02T17:06:38.679847Z"
    }
   },
   "outputs": [
    {
     "name": "stdout",
     "output_type": "stream",
     "text": [
      "Cost: [0.03125, 0.0625, 0.125, 0.25, 0.5, 1, 2, 4, 8, 16, 32, 64, 128, 256, 512, 1024, 2048, 4096, 8192, 16384]\n",
      "Gamma: [3.0517578125e-05, 6.103515625e-05, 0.0001220703125, 0.000244140625, 0.00048828125, 0.0009765625, 0.001953125, 0.00390625, 0.0078125, 0.015625, 0.03125, 0.0625, 0.125, 0.25, 0.5, 1, 2, 4]\n"
     ]
    }
   ],
   "source": [
    "Cost = [2**i for i in range(-5,15)]\n",
    "Gamma = [2**i for i in range(-15,3)]\n",
    "\n",
    "print(\"Cost:\",Cost)\n",
    "print(\"Gamma:\",Gamma)"
   ]
  },
  {
   "cell_type": "markdown",
   "metadata": {},
   "source": [
    "if model exist, reload model. Otherwise, create new model and save it."
   ]
  },
  {
   "cell_type": "code",
   "execution_count": 65,
   "metadata": {
    "ExecuteTime": {
     "end_time": "2019-12-02T17:08:30.550382Z",
     "start_time": "2019-12-02T17:06:38.687825Z"
    }
   },
   "outputs": [
    {
     "name": "stdout",
     "output_type": "stream",
     "text": [
      "The model is not exist, now create & save model\n"
     ]
    },
    {
     "name": "stderr",
     "output_type": "stream",
     "text": [
      "C:\\Users\\user\\Anaconda3\\lib\\site-packages\\sklearn\\model_selection\\_search.py:813: DeprecationWarning: The default of the `iid` parameter will change from True to False in version 0.22 and will be removed in 0.24. This will change numeric results when test-set sizes are unequal.\n",
      "  DeprecationWarning)\n"
     ]
    }
   ],
   "source": [
    "# Check if object exist\n",
    "try:\n",
    "    load('SVM_pipeline.joblib') \n",
    "except FileNotFoundError:\n",
    "    print(\"The model is not exist, now create & save model\")\n",
    "    \n",
    "    from sklearn import svm\n",
    "    \n",
    "    svm_grid = {'classifier__C': Cost, 'classifier__gamma': Gamma}\n",
    "    \n",
    "    SVM_pipeline = Pipeline(steps=[('preprocessor', preprocessor),\n",
    "                      ('classifier', SVC(kernel='rbf'))])\n",
    "    \n",
    "    svm_model = GridSearchCV(SVM_pipeline, \n",
    "                             svm_grid, cv=k_fold, scoring='f1_weighted',\n",
    "                             return_train_score=True, n_jobs=-2)\n",
    "    \n",
    "    svm_model.fit(X,Y)\n",
    "    # Save model in current folder \n",
    "    dump(svm_model, 'SVM_pipeline.joblib')\n",
    "else:\n",
    "    svm_model = load('SVM_pipeline.joblib')\n",
    "    print(\"Reload existing model\")"
   ]
  },
  {
   "cell_type": "markdown",
   "metadata": {},
   "source": [
    "## 4.2. Model Evaluation\n",
    "\n",
    "The following 3D scatter plot shows the balanced F-score of cross validation result."
   ]
  },
  {
   "cell_type": "code",
   "execution_count": 66,
   "metadata": {
    "ExecuteTime": {
     "end_time": "2019-12-02T17:08:30.935390Z",
     "start_time": "2019-12-02T17:08:30.552377Z"
    }
   },
   "outputs": [
    {
     "data": {
      "image/png": "[encoded data removed]",
      "text/plain": [
       "<Figure size 576x360 with 1 Axes>"
      ]
     },
     "metadata": {
      "needs_background": "light"
     },
     "output_type": "display_data"
    }
   ],
   "source": [
    "X_axis = svm_model.cv_results_['param_classifier__C'].data\n",
    "Y_axis = svm_model.cv_results_['param_classifier__gamma'].data\n",
    "test_axis = svm_model.cv_results_['mean_test_score']\n",
    "train_axis= svm_model.cv_results_['mean_train_score']\n",
    "\n",
    "plt.figure(figsize=(8,5))\n",
    "ax = plt.axes(projection='3d')\n",
    "ax.scatter(X_axis, Y_axis, test_axis, c='red', label='test data')\n",
    "ax.scatter(X_axis, Y_axis, train_axis, c='blue', label='train data')\n",
    "\n",
    "plt.title('Grid Search Result of SVM')\n",
    "ax.set_xlabel('Cost')\n",
    "ax.set_ylabel('Gamma')\n",
    "ax.set_zlabel('Balanced F-score')\n",
    "ax.legend();"
   ]
  },
  {
   "cell_type": "markdown",
   "metadata": {},
   "source": [
    "## 4.3. Model Summary"
   ]
  },
  {
   "cell_type": "code",
   "execution_count": 35,
   "metadata": {
    "ExecuteTime": {
     "end_time": "2019-12-02T16:24:01.425931Z",
     "start_time": "2019-12-02T16:24:01.413758Z"
    }
   },
   "outputs": [
    {
     "name": "stdout",
     "output_type": "stream",
     "text": [
      "Balanced F-score in:\n",
      "Test Data: 0.8458790156560818\n",
      "Train Data: 0.9963923424407121\n",
      "------------------------------------------------------------\n",
      "Parameters:\n",
      "Cost: 2048\n",
      "Gamma: 0.00390625\n"
     ]
    }
   ],
   "source": [
    "print('Balanced F-score in:')\n",
    "print('Test Data:',svm_model.cv_results_['mean_test_score'][svm_model.best_index_])\n",
    "print('Train Data:',svm_model.cv_results_['mean_train_score'][svm_model.best_index_])\n",
    "print('------------------------------------------------------------')\n",
    "print('Parameters:')\n",
    "print('Cost:',svm_model.cv_results_['param_classifier__C'][svm_model.best_index_])\n",
    "print('Gamma:',svm_model.cv_results_['param_classifier__gamma'][svm_model.best_index_])"
   ]
  },
  {
   "cell_type": "markdown",
   "metadata": {},
   "source": [
    "## 4.3. Classification Result\n",
    "Confusion matrix shows classification result."
   ]
  },
  {
   "cell_type": "code",
   "execution_count": 52,
   "metadata": {
    "ExecuteTime": {
     "end_time": "2019-12-02T16:55:05.999262Z",
     "start_time": "2019-12-02T16:55:05.911497Z"
    }
   },
   "outputs": [
    {
     "name": "stdout",
     "output_type": "stream",
     "text": [
      "Predicted  acc  good  unacc  vgood\n",
      "Actual                            \n",
      "acc        384     0      0      0\n",
      "good         0    69      0      0\n",
      "unacc        3     2   1205      0\n",
      "vgood        0     0      0     65\n",
      "--------------------------------\n",
      "SVM model accuarcy: 99.71 %\n"
     ]
    }
   ],
   "source": [
    "CM = pd.crosstab(Y, svm_model.predict(X),rownames=['Actual'], colnames=['Predicted'])\n",
    "print(CM)\n",
    "print('--------------------------------')\n",
    "print(\"SVM model accuarcy:\",round(sum(Y == svm_model.predict(X))/Y.count(),4)*100,\"%\")"
   ]
  },
  {
   "cell_type": "code",
   "execution_count": 67,
   "metadata": {
    "ExecuteTime": {
     "end_time": "2019-12-02T17:09:24.868861Z",
     "start_time": "2019-12-02T17:09:24.823982Z"
    }
   },
   "outputs": [
    {
     "data": {
      "text/plain": [
       "array(['unacc', 'unacc', 'unacc', ..., 'unacc', 'good', 'vgood'],\n",
       "      dtype=object)"
      ]
     },
     "execution_count": 67,
     "metadata": {},
     "output_type": "execute_result"
    }
   ],
   "source": [
    "svm_model.predict(df)"
   ]
  },
  {
   "cell_type": "markdown",
   "metadata": {},
   "source": [
    "## 5. Random Forest\n",
    "\n",
    "Random forests are an ensemble learning method for classification that operates by constructing a multitude of decision trees at training time and outputting the class that is the mode of the classes of the individual trees.\n",
    "\n",
    "https://scikit-learn.org/stable/modules/generated/sklearn.ensemble.RandomForestClassifier.html\n",
    "\n",
    "## 5.1  Turning Model Parameters with Grid Search\n",
    "\n",
    "There are 6 parameters in random forest model.\n",
    "\n",
    "n_estimators: number of trees in random forest.\n",
    "\n",
    "max_features: number of features to consider when looking for the best split.\n",
    "\n",
    "max_depth: maximum depth of the decision tree.\n",
    "\n",
    "min_samples_split: minimum number of samples required to split an internal node.\n",
    "\n",
    "min_samples_leaf: minimum number of samples required to be at a leaf node.\n",
    "\n",
    "bootstrap: repeatedly sample data with replacement from the original training set in order to produce multiple separate training sets."
   ]
  },
  {
   "cell_type": "code",
   "execution_count": 68,
   "metadata": {
    "ExecuteTime": {
     "end_time": "2019-12-02T17:15:51.149432Z",
     "start_time": "2019-12-02T17:15:51.142451Z"
    }
   },
   "outputs": [
    {
     "name": "stdout",
     "output_type": "stream",
     "text": [
      "n_estimators: [2, 4, 8, 16, 32]\n",
      "max_features: ['auto', 'sqrt']\n",
      "max_depth: [2, 4, 8]\n",
      "min_samples_split: [2, 4, 8]\n",
      "min_samples_leaf: [2, 4, 8]\n",
      "bootstrap: [True, False]\n"
     ]
    }
   ],
   "source": [
    "n_estimators = [2**i for i in range(1,6)]\n",
    "max_features = ['auto', 'sqrt']\n",
    "max_depth = [2**i for i in range(1,4)]\n",
    "min_samples_split = [2**i for i in range(1,4)]\n",
    "min_samples_leaf = [2**i for i in range(1,4)]\n",
    "bootstrap = [True, False]\n",
    "\n",
    "print('n_estimators:',n_estimators)\n",
    "print('max_features:',max_features)\n",
    "print('max_depth:',max_depth)\n",
    "print('min_samples_split:',min_samples_split)\n",
    "print('min_samples_leaf:',min_samples_leaf)\n",
    "print('bootstrap:',bootstrap)"
   ]
  },
  {
   "cell_type": "code",
   "execution_count": 69,
   "metadata": {
    "ExecuteTime": {
     "end_time": "2019-12-02T17:16:38.071788Z",
     "start_time": "2019-12-02T17:15:58.239126Z"
    }
   },
   "outputs": [
    {
     "name": "stdout",
     "output_type": "stream",
     "text": [
      "The model is not exist, now create & save model\n"
     ]
    },
    {
     "name": "stderr",
     "output_type": "stream",
     "text": [
      "C:\\Users\\user\\Anaconda3\\lib\\site-packages\\sklearn\\model_selection\\_search.py:813: DeprecationWarning: The default of the `iid` parameter will change from True to False in version 0.22 and will be removed in 0.24. This will change numeric results when test-set sizes are unequal.\n",
      "  DeprecationWarning)\n"
     ]
    }
   ],
   "source": [
    "# Check if object exist\n",
    "try:\n",
    "    load('RF_pipeline.joblib') \n",
    "except FileNotFoundError:\n",
    "    print(\"The model is not exist, now create & save model\")\n",
    "    \n",
    "    from sklearn.ensemble import RandomForestClassifier\n",
    "    \n",
    "    rf_grid  = {'classifier__n_estimators': n_estimators,\n",
    "               'classifier__max_features': max_features,\n",
    "               'classifier__max_depth': max_depth,\n",
    "               'classifier__min_samples_split': min_samples_split,\n",
    "               'classifier__min_samples_leaf': min_samples_leaf,\n",
    "               'classifier__bootstrap': bootstrap}\n",
    "    \n",
    "    rf_pipeline = Pipeline(steps=[('preprocessor', preprocessor),\n",
    "                      ('classifier', RandomForestClassifier())])\n",
    "    \n",
    "    rf_model = GridSearchCV(rf_pipeline, \n",
    "                             rf_grid, cv=k_fold, scoring='f1_weighted',\n",
    "                             return_train_score=True, n_jobs=-2)\n",
    "    \n",
    "    rf_model.fit(X,Y)\n",
    "    # Save model in current folder \n",
    "    dump(rf_model, 'RF_pipeline.joblib')\n",
    "else:\n",
    "    rf_model = load('RF_pipeline.joblib')\n",
    "    print(\"Reload existing model\")"
   ]
  },
  {
   "cell_type": "markdown",
   "metadata": {},
   "source": [
    "## 4.2. Model Summary"
   ]
  },
  {
   "cell_type": "code",
   "execution_count": 70,
   "metadata": {
    "ExecuteTime": {
     "end_time": "2019-12-02T17:17:02.096692Z",
     "start_time": "2019-12-02T17:17:02.089743Z"
    }
   },
   "outputs": [
    {
     "name": "stdout",
     "output_type": "stream",
     "text": [
      "Balanced F-score in:\n",
      "Test Data: 0.780249149597914\n",
      "Train Data: 0.9402656459302332\n",
      "------------------------------------------------------------\n",
      "Parameters:\n",
      "n_estimators: 4\n",
      "max_features: auto\n",
      "max_depth: 8\n",
      "min_samples_split: 2\n",
      "min_samples_leaf: 2\n",
      "bootstrap: True\n"
     ]
    }
   ],
   "source": [
    "print('Balanced F-score in:')\n",
    "print('Test Data:',rf_model.cv_results_['mean_test_score'][rf_model.best_index_])\n",
    "print('Train Data:',rf_model.cv_results_['mean_train_score'][rf_model.best_index_])\n",
    "print('------------------------------------------------------------')\n",
    "print('Parameters:')\n",
    "print('n_estimators:',rf_model.cv_results_['param_classifier__n_estimators'][rf_model.best_index_])\n",
    "print('max_features:',rf_model.cv_results_['param_classifier__max_features'][rf_model.best_index_])\n",
    "print('max_depth:',rf_model.cv_results_['param_classifier__max_depth'][rf_model.best_index_])\n",
    "print('min_samples_split:',rf_model.cv_results_['param_classifier__min_samples_split'][rf_model.best_index_])\n",
    "print('min_samples_leaf:',rf_model.cv_results_['param_classifier__min_samples_leaf'][rf_model.best_index_])\n",
    "print('bootstrap:',rf_model.cv_results_['param_classifier__bootstrap'][rf_model.best_index_])"
   ]
  },
  {
   "cell_type": "markdown",
   "metadata": {},
   "source": [
    "## 5.3. Classification Result\n",
    "Confusion matrix shows classification result."
   ]
  },
  {
   "cell_type": "code",
   "execution_count": 86,
   "metadata": {
    "ExecuteTime": {
     "end_time": "2019-12-02T17:36:12.798167Z",
     "start_time": "2019-12-02T17:36:12.758272Z"
    }
   },
   "outputs": [
    {
     "name": "stdout",
     "output_type": "stream",
     "text": [
      "Predicted  acc  good  unacc  vgood\n",
      "Actual                            \n",
      "acc        359     2     22      1\n",
      "good        21    46      0      2\n",
      "unacc       25     0   1185      0\n",
      "vgood        6     1      0     58\n",
      "--------------------------------\n",
      "Random Forest model accuarcy: 95.37 %\n"
     ]
    }
   ],
   "source": [
    "CM = pd.crosstab(Y, rf_model.predict(X),rownames=['Actual'], colnames=['Predicted'])\n",
    "print(CM)\n",
    "print('--------------------------------')\n",
    "print(\"Random Forest model accuarcy:\",round(sum(Y == rf_model.predict(X))/Y.count(),4)*100,\"%\")"
   ]
  },
  {
   "cell_type": "markdown",
   "metadata": {},
   "source": [
    "## 5.4. Feature Important in Random Forest"
   ]
  },
  {
   "cell_type": "code",
   "execution_count": 85,
   "metadata": {
    "ExecuteTime": {
     "end_time": "2019-12-02T17:35:46.280345Z",
     "start_time": "2019-12-02T17:35:45.986830Z"
    }
   },
   "outputs": [
    {
     "data": {
      "image/png": "[encoded data removed]",
      "text/plain": [
       "<Figure size 432x288 with 1 Axes>"
      ]
     },
     "metadata": {
      "needs_background": "light"
     },
     "output_type": "display_data"
    }
   ],
   "source": [
    "sns.barplot(y=encoded_feature_names,x=rf_model.best_estimator_.named_steps[\"classifier\"].feature_importances_)\n",
    "\n",
    "plt.title('Feature Important in Random Forest')\n",
    "plt.xlabel('Important')\n",
    "plt.ylabel('Feature');"
   ]
  },
  {
   "cell_type": "code",
   "execution_count": null,
   "metadata": {},
   "outputs": [],
   "source": []
  }
 ],
 "metadata": {
  "kernelspec": {
   "display_name": "Python 3",
   "language": "python",
   "name": "python3"
  },
  "language_info": {
   "codemirror_mode": {
    "name": "ipython",
    "version": 3
   },
   "file_extension": ".py",
   "mimetype": "text/x-python",
   "name": "python",
   "nbconvert_exporter": "python",
   "pygments_lexer": "ipython3",
   "version": "3.6.9"
  },
  "varInspector": {
   "cols": {
    "lenName": 16,
    "lenType": 16,
    "lenVar": 40
   },
   "kernels_config": {
    "python": {
     "delete_cmd_postfix": "",
     "delete_cmd_prefix": "del ",
     "library": "var_list.py",
     "varRefreshCmd": "print(var_dic_list())"
    },
    "r": {
     "delete_cmd_postfix": ") ",
     "delete_cmd_prefix": "rm(",
     "library": "var_list.r",
     "varRefreshCmd": "cat(var_dic_list()) "
    }
   },
   "oldHeight": 427.65666600000003,
   "position": {
    "height": "40px",
    "left": "540px",
    "right": "20px",
    "top": "113px",
    "width": "583.323px"
   },
   "types_to_exclude": [
    "module",
    "function",
    "builtin_function_or_method",
    "instance",
    "_Feature"
   ],
   "varInspector_section_display": "none",
   "window_display": true
  }
 },
 "nbformat": 4,
 "nbformat_minor": 2
}
