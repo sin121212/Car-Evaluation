{
 "cells": [
  {
   "cell_type": "markdown",
   "metadata": {
    "slideshow": {
     "slide_type": "slide"
    }
   },
   "source": [
    "# Introduction:\n",
    "This is a multilabel classification example. The aim of this machine learning project is predict acceptability of car.\n",
    "\n",
    "# What Is Machine Learning Pipeline?\n",
    "\n",
    "Machine learning pipeline is used to help automate machine learning workflows. They operate by enabling a sequence of data to be transformed and correlated together in a model that can be tested and evaluated to achieve an outcome.\n",
    "\n",
    "# Algorithm:\n",
    "\n",
    "Algorithm 1: Support Vector Machine (SVM)\n",
    "\n",
    "Algorithm 2:Random Forest"
   ]
  },
  {
   "cell_type": "code",
   "execution_count": 1,
   "metadata": {
    "ExecuteTime": {
     "end_time": "2020-01-30T16:38:39.908431Z",
     "start_time": "2020-01-30T16:38:37.494865Z"
    },
    "slideshow": {
     "slide_type": "slide"
    }
   },
   "outputs": [],
   "source": [
    "import pandas as pd\n",
    "from pandas_profiling import ProfileReport\n",
    "import numpy as np\n",
    "\n",
    "from sklearn.impute import SimpleImputer\n",
    "from sklearn.preprocessing import OneHotEncoder,StandardScaler\n",
    "from sklearn.pipeline import Pipeline\n",
    "from sklearn.compose import ColumnTransformer\n",
    "\n",
    "from sklearn import model_selection\n",
    "from sklearn.model_selection import GridSearchCV\n",
    "from sklearn.metrics import confusion_matrix\n",
    "\n",
    "k_fold = model_selection.KFold(n_splits=5, random_state=123)\n",
    "from sklearn import tree\n",
    "\n",
    "import seaborn as sns\n",
    "import matplotlib.pyplot as plt\n",
    "%matplotlib inline\n",
    "\n",
    "from joblib import dump, load"
   ]
  },
  {
   "cell_type": "markdown",
   "metadata": {
    "slideshow": {
     "slide_type": "fragment"
    }
   },
   "source": [
    "# 1. Data Preparation\n",
    "## 1.1 Import Car Evaluation Dataset"
   ]
  },
  {
   "cell_type": "code",
   "execution_count": 2,
   "metadata": {
    "ExecuteTime": {
     "end_time": "2020-01-30T16:38:39.924412Z",
     "start_time": "2020-01-30T16:38:39.909440Z"
    }
   },
   "outputs": [],
   "source": [
    "df = pd.read_csv(r'C:\\Users\\user\\Desktop\\Data_Science\\Car\\car_evaluation.csv')"
   ]
  },
  {
   "cell_type": "markdown",
   "metadata": {},
   "source": [
    "## 1.2 Data Exploration\n",
    "\n",
    "For each column the following statistics are presented in an interactive HTML report:\n",
    "\n",
    "Essentials: type, unique values, missing values\n",
    "\n",
    "Quantile statistics like minimum value, Q1, median, Q3, maximum, range, interquartile range\n",
    "\n",
    "Descriptive statistics like mean, mode, standard deviation, sum, median absolute deviation, coefficient of variation, kurtosis, skewness\n",
    "Most frequent values\n",
    "\n",
    "Histogram\n",
    "\n",
    "Correlations highlighting of highly correlated variables, Spearman, Pearson and Kendall matrices\n",
    "\n",
    "Missing values matrix, count, heatmap and dendrogram of missing values"
   ]
  },
  {
   "cell_type": "code",
   "execution_count": 3,
   "metadata": {
    "ExecuteTime": {
     "end_time": "2020-01-30T16:38:45.034054Z",
     "start_time": "2020-01-30T16:38:39.925973Z"
    }
   },
   "outputs": [],
   "source": [
    "profile = ProfileReport(df)"
   ]
  },
  {
   "cell_type": "code",
   "execution_count": 4,
   "metadata": {
    "ExecuteTime": {
     "end_time": "2020-01-30T16:38:45.315634Z",
     "start_time": "2020-01-30T16:38:45.038036Z"
    }
   },
   "outputs": [],
   "source": [
    "profile.to_file(output_file=\"your_report.html\")"
   ]
  },
  {
   "cell_type": "markdown",
   "metadata": {
    "slideshow": {
     "slide_type": "slide"
    }
   },
   "source": [
    "### 1.2.1. Target Variable (Y) --- decision\n",
    "\n",
    "In this dataset, \"decision\" variable refer to car acceptability.\n",
    "\n",
    "Note that it is an imbalanced dataset. Imbalance means that the number of data points available for different the classes is different.\n",
    "\n",
    "For imbalanced dataset, we need to pay attention to classification performance method."
   ]
  },
  {
   "cell_type": "code",
   "execution_count": 5,
   "metadata": {
    "ExecuteTime": {
     "end_time": "2020-01-30T16:38:45.442304Z",
     "start_time": "2020-01-30T16:38:45.316595Z"
    },
    "slideshow": {
     "slide_type": "slide"
    }
   },
   "outputs": [
    {
     "data": {
      "image/png": "[encoded data removed]",
      "text/plain": [
       "<Figure size 432x288 with 1 Axes>"
      ]
     },
     "metadata": {
      "needs_background": "light"
     },
     "output_type": "display_data"
    }
   ],
   "source": [
    "Y = df['decision']\n",
    "ax = sns.countplot(Y)"
   ]
  },
  {
   "cell_type": "markdown",
   "metadata": {
    "slideshow": {
     "slide_type": "skip"
    }
   },
   "source": [
    "### 1.2.2. Numeric Feature & Categorical Feature (X)"
   ]
  },
  {
   "cell_type": "code",
   "execution_count": 6,
   "metadata": {
    "ExecuteTime": {
     "end_time": "2020-01-30T16:38:45.458219Z",
     "start_time": "2020-01-30T16:38:45.443257Z"
    },
    "slideshow": {
     "slide_type": "skip"
    }
   },
   "outputs": [
    {
     "name": "stdout",
     "output_type": "stream",
     "text": [
      "There are 1728 rows and 6 feature(s) in dataset.\n",
      "-----------------------------------------------------------------------\n",
      "Number of numeric feature(s): 0\n",
      "Variable(s) name: Index([], dtype='object')\n",
      "-----------------------------------------------------------------------\n",
      "Number of categorical feature(s): 6\n",
      "Variable(s) name: Index(['buying_price', 'maintenance_cost', 'number_of_doors',\n",
      "       'number_of_persons', 'lug_boot', 'safety'],\n",
      "      dtype='object')\n"
     ]
    }
   ],
   "source": [
    "X = df.drop('decision', axis=1)\n",
    "numeric_features = X.select_dtypes(include=['int64', 'float64']).columns\n",
    "categorical_features = X.select_dtypes(include=['object']).columns\n",
    "\n",
    "print(\"There are\",X.shape[0], \"rows and\" , X.shape[1] , \"feature(s) in dataset.\")\n",
    "print(\"-----------------------------------------------------------------------\")\n",
    "\n",
    "print(\"Number of numeric feature(s):\",numeric_features.shape[0])\n",
    "print(\"Variable(s) name:\",numeric_features)\n",
    "print(\"-----------------------------------------------------------------------\")\n",
    "\n",
    "print(\"Number of categorical feature(s):\",categorical_features.shape[0])\n",
    "print(\"Variable(s) name:\",categorical_features)"
   ]
  },
  {
   "cell_type": "code",
   "execution_count": 7,
   "metadata": {
    "ExecuteTime": {
     "end_time": "2020-01-30T16:38:45.465202Z",
     "start_time": "2020-01-30T16:38:45.460213Z"
    }
   },
   "outputs": [
    {
     "name": "stdout",
     "output_type": "stream",
     "text": [
      "There is no numeric feature, skip this part\n"
     ]
    }
   ],
   "source": [
    "if numeric_features.shape[0] > 0:\n",
    "    print(df[numeric_features].describe())\n",
    "else:\n",
    "    print(\"There is no numeric feature, skip this part\")"
   ]
  },
  {
   "cell_type": "code",
   "execution_count": 8,
   "metadata": {
    "ExecuteTime": {
     "end_time": "2020-01-30T16:38:45.502101Z",
     "start_time": "2020-01-30T16:38:45.468191Z"
    }
   },
   "outputs": [
    {
     "name": "stdout",
     "output_type": "stream",
     "text": [
      "       buying_price maintenance_cost number_of_doors number_of_persons  \\\n",
      "count          1728             1728            1728              1728   \n",
      "unique            4                4               4                 3   \n",
      "top             med              med               2              more   \n",
      "freq            432              432             432               576   \n",
      "\n",
      "       lug_boot safety  \n",
      "count      1728   1728  \n",
      "unique        3      3  \n",
      "top         med    med  \n",
      "freq        576    576  \n"
     ]
    }
   ],
   "source": [
    "if categorical_features.shape[0] > 0:\n",
    "    print(df[categorical_features].describe())\n",
    "else:\n",
    "    print(\"There is no categorical feature, skip this part\")"
   ]
  },
  {
   "cell_type": "markdown",
   "metadata": {},
   "source": [
    "# 2. Preprocessing of Machine Learning\n",
    "\n",
    "## 2.1. Handling Missing Value\n",
    "\n",
    "if there are missing values, impute missing values before building an estimator. For numeric feature and categorical feature, impute missing value with median and \"missing\" respectively. In this dataset, there are no missing values. "
   ]
  },
  {
   "cell_type": "code",
   "execution_count": 9,
   "metadata": {
    "ExecuteTime": {
     "end_time": "2020-01-30T16:38:45.515067Z",
     "start_time": "2020-01-30T16:38:45.505093Z"
    }
   },
   "outputs": [
    {
     "name": "stdout",
     "output_type": "stream",
     "text": [
      "                   Missing Value Count\n",
      "Feature                               \n",
      "decision                             0\n",
      "safety                               0\n",
      "lug_boot                             0\n",
      "number_of_persons                    0\n",
      "number_of_doors                      0\n",
      "maintenance_cost                     0\n",
      "buying_price                         0\n"
     ]
    }
   ],
   "source": [
    "nulls = pd.DataFrame(df.isnull().sum().sort_values(ascending=False))\n",
    "nulls.columns = ['Missing Value Count']\n",
    "nulls.index.name = 'Feature'\n",
    "print(nulls)"
   ]
  },
  {
   "cell_type": "markdown",
   "metadata": {},
   "source": [
    "## 2.2.  Standardization of Numeric Feature\n",
    "\n",
    "Standardize features by removing the mean and scaling to unit variance."
   ]
  },
  {
   "cell_type": "markdown",
   "metadata": {},
   "source": [
    "## 2.3. OneHot Encoding of Categorical Feature\n",
    "\n",
    "One-hot encoding can be applied to the integer representation. This is where the integer encoded variable is removed and a new binary variable is added for each unique integer value."
   ]
  },
  {
   "cell_type": "code",
   "execution_count": 10,
   "metadata": {
    "ExecuteTime": {
     "end_time": "2020-01-30T16:38:45.524084Z",
     "start_time": "2020-01-30T16:38:45.518060Z"
    }
   },
   "outputs": [],
   "source": [
    "# Define funcation to store encoded column name\n",
    "def get_feature_names(columnTransformer):\n",
    "\n",
    "    output_features = []\n",
    "\n",
    "    for name, pipe, features in columnTransformer.transformers_:\n",
    "        if name!='remainder':\n",
    "            for i in pipe:\n",
    "                trans_features = []\n",
    "                if hasattr(i,'categories_'):\n",
    "                    trans_features.extend(i.get_feature_names(features))\n",
    "                else:\n",
    "                    trans_features = features\n",
    "            output_features.extend(trans_features)\n",
    "\n",
    "    return output_features"
   ]
  },
  {
   "cell_type": "code",
   "execution_count": 11,
   "metadata": {
    "ExecuteTime": {
     "end_time": "2020-01-30T16:38:45.532029Z",
     "start_time": "2020-01-30T16:38:45.525039Z"
    },
    "code_folding": []
   },
   "outputs": [],
   "source": [
    "# Preprocessing\n",
    "numeric_transformer = Pipeline(steps=[\n",
    "    ('imputer', SimpleImputer(strategy='median')),\n",
    "    ('scaler', StandardScaler())])\n",
    "\n",
    "categorical_transformer = Pipeline(steps=[\n",
    "    ('imputer', SimpleImputer(strategy='constant', fill_value='missing')),\n",
    "    ('onehot', OneHotEncoder(handle_unknown='ignore'))])\n",
    "\n",
    "preprocessor = ColumnTransformer(\n",
    "    transformers=[\n",
    "        ('num', numeric_transformer, numeric_features),\n",
    "        ('cat', categorical_transformer, categorical_features)],\n",
    "    remainder='passthrough')"
   ]
  },
  {
   "cell_type": "code",
   "execution_count": 12,
   "metadata": {
    "ExecuteTime": {
     "end_time": "2020-01-30T16:38:45.549013Z",
     "start_time": "2020-01-30T16:38:45.535015Z"
    }
   },
   "outputs": [
    {
     "name": "stdout",
     "output_type": "stream",
     "text": [
      "['buying_price_high', 'buying_price_low', 'buying_price_med', 'buying_price_vhigh', 'maintenance_cost_high', 'maintenance_cost_low', 'maintenance_cost_med', 'maintenance_cost_vhigh', 'number_of_doors_2', 'number_of_doors_3', 'number_of_doors_4', 'number_of_doors_5more', 'number_of_persons_2', 'number_of_persons_4', 'number_of_persons_more', 'lug_boot_big', 'lug_boot_med', 'lug_boot_small', 'safety_high', 'safety_low', 'safety_med']\n"
     ]
    }
   ],
   "source": [
    "preprocessor.fit(X)\n",
    "encoded_feature_names = get_feature_names(preprocessor)\n",
    "print(encoded_feature_names)"
   ]
  },
  {
   "cell_type": "markdown",
   "metadata": {},
   "source": [
    "# 3. Classification Model Setting\n",
    "\n",
    "The following setting will be applied in each classification model."
   ]
  },
  {
   "cell_type": "markdown",
   "metadata": {},
   "source": [
    "## 3.1. Model Validation\n",
    "\n",
    "To aviod overfitting or underfitting problem, 5-folds cross-validation has applied.\n",
    "\n",
    "The data set is split into 5 folds. In the first iteration, the first fold is used to test the model and the rest are used to train the model. This process is repeated until each fold of the 5 folds have been used as the testing set."
   ]
  },
  {
   "cell_type": "code",
   "execution_count": 13,
   "metadata": {
    "ExecuteTime": {
     "end_time": "2020-01-30T16:38:45.554959Z",
     "start_time": "2020-01-30T16:38:45.550971Z"
    }
   },
   "outputs": [],
   "source": [
    "k_fold = model_selection.KFold(n_splits=5, random_state=123)"
   ]
  },
  {
   "cell_type": "markdown",
   "metadata": {},
   "source": [
    "## 3.2. Model Optimization\n",
    "\n",
    "Turning model parameters with grid search.\n",
    "\n",
    "## 3.3. Model Evaluation\n",
    "\n",
    "The model selection criteria is balanced F-score in testing data.\n",
    "\n",
    "The F1 score can be interpreted as a weighted average of the precision and recall, where an F1 score reaches its best value at 1 and worst score at 0. \n",
    "\n",
    "Calculate metrics for each label, and find their average weighted by support (the number of true instances for each label). It can solve imbanlance dataset problem.\n",
    "\n",
    "## 3.4. Speed up Training Time\n",
    "\n",
    "Multiprocessing module to parallelize execution onto several Python processes by passing n_jobs = -2 as argument.\n",
    "\n",
    "n_jobs = -2, all CPUs but one are used."
   ]
  },
  {
   "cell_type": "code",
   "execution_count": 14,
   "metadata": {
    "ExecuteTime": {
     "end_time": "2020-01-30T16:38:45.560976Z",
     "start_time": "2020-01-30T16:38:45.555957Z"
    }
   },
   "outputs": [
    {
     "name": "stdout",
     "output_type": "stream",
     "text": [
      "max_depth: [2, 3, 4]\n",
      "min_samples_split: [0.1, 0.2]\n"
     ]
    }
   ],
   "source": [
    "max_depth = [2,3,4]\n",
    "min_samples_split = [0.1,0.2]\n",
    "\n",
    "print(\"max_depth:\",max_depth)\n",
    "print(\"min_samples_split:\",min_samples_split)"
   ]
  },
  {
   "cell_type": "markdown",
   "metadata": {},
   "source": [
    "if model exist, reload model. Otherwise, create new model and save it."
   ]
  },
  {
   "cell_type": "code",
   "execution_count": 15,
   "metadata": {
    "ExecuteTime": {
     "end_time": "2020-01-30T16:38:45.585909Z",
     "start_time": "2020-01-30T16:38:45.562938Z"
    },
    "code_folding": []
   },
   "outputs": [
    {
     "name": "stdout",
     "output_type": "stream",
     "text": [
      "Reload existing model\n"
     ]
    }
   ],
   "source": [
    "# Check if object exist\n",
    "try:\n",
    "    load('DT_pipeline.joblib') \n",
    "except FileNotFoundError:\n",
    "    print(\"The model is not exist, now create & save model\")\n",
    "    \n",
    "    DT_grid = {'classifier__max_depth': max_depth, 'classifier__min_samples_split': min_samples_split}\n",
    "    \n",
    "    DT_pipeline = Pipeline(steps=[('preprocessor', preprocessor),\n",
    "                      ('classifier', tree.DecisionTreeClassifier())])\n",
    "    \n",
    "    DT_model = GridSearchCV(DT_pipeline, \n",
    "                             DT_grid, cv=k_fold, scoring='f1_weighted',\n",
    "                             return_train_score=True, n_jobs=-2)\n",
    "    \n",
    "    DT_model.fit(X,Y)\n",
    "    # Save model in current folder \n",
    "    dump(DT_model, 'DT_pipeline.joblib')\n",
    "else:\n",
    "    DT_model = load('DT_pipeline.joblib')\n",
    "    print(\"Reload existing model\")"
   ]
  },
  {
   "cell_type": "markdown",
   "metadata": {},
   "source": [
    "## 4.2. Model Evaluation"
   ]
  },
  {
   "cell_type": "markdown",
   "metadata": {},
   "source": [
    "## 4.3. Model Summary"
   ]
  },
  {
   "cell_type": "code",
   "execution_count": 16,
   "metadata": {
    "ExecuteTime": {
     "end_time": "2020-01-30T16:38:45.624806Z",
     "start_time": "2020-01-30T16:38:45.586873Z"
    }
   },
   "outputs": [
    {
     "data": {
      "text/plain": [
       "Pipeline(memory=None,\n",
       "         steps=[('preprocessor',\n",
       "                 ColumnTransformer(n_jobs=None, remainder='passthrough',\n",
       "                                   sparse_threshold=0.3,\n",
       "                                   transformer_weights=None,\n",
       "                                   transformers=[('num',\n",
       "                                                  Pipeline(memory=None,\n",
       "                                                           steps=[('imputer',\n",
       "                                                                   SimpleImputer(add_indicator=False,\n",
       "                                                                                 copy=True,\n",
       "                                                                                 fill_value=None,\n",
       "                                                                                 missing_values=nan,\n",
       "                                                                                 strategy='median',\n",
       "                                                                                 verbose=0)),\n",
       "                                                                  ('scaler',\n",
       "                                                                   StandardScaler(copy=True,\n",
       "                                                                                  wi...\n",
       "       'number_of_persons', 'lug_boot', 'safety'],\n",
       "      dtype='object'))],\n",
       "                                   verbose=False)),\n",
       "                ('classifier',\n",
       "                 DecisionTreeClassifier(class_weight=None, criterion='gini',\n",
       "                                        max_depth=2, max_features=None,\n",
       "                                        max_leaf_nodes=None,\n",
       "                                        min_impurity_decrease=0.0,\n",
       "                                        min_impurity_split=None,\n",
       "                                        min_samples_leaf=1,\n",
       "                                        min_samples_split=0.1,\n",
       "                                        min_weight_fraction_leaf=0.0,\n",
       "                                        presort=False, random_state=None,\n",
       "                                        splitter='best'))],\n",
       "         verbose=False)"
      ]
     },
     "execution_count": 16,
     "metadata": {},
     "output_type": "execute_result"
    }
   ],
   "source": [
    "DT_model.best_estimator_"
   ]
  },
  {
   "cell_type": "markdown",
   "metadata": {},
   "source": [
    "## 4.3. Classification Result\n",
    "Confusion matrix shows classification result."
   ]
  },
  {
   "cell_type": "code",
   "execution_count": 17,
   "metadata": {
    "ExecuteTime": {
     "end_time": "2020-01-30T16:38:45.660888Z",
     "start_time": "2020-01-30T16:38:45.625770Z"
    }
   },
   "outputs": [
    {
     "name": "stdout",
     "output_type": "stream",
     "text": [
      "Predicted  acc  unacc\n",
      "Actual               \n",
      "acc        384      0\n",
      "good        69      0\n",
      "unacc      250    960\n",
      "vgood       65      0\n",
      "--------------------------------\n",
      "DT model accuarcy: 77.78 %\n"
     ]
    }
   ],
   "source": [
    "CM = pd.crosstab(Y, DT_model.predict(X),rownames=['Actual'], colnames=['Predicted'])\n",
    "print(CM)\n",
    "print('--------------------------------')\n",
    "print(\"DT model accuarcy:\",round(sum(Y == DT_model.predict(X))/Y.count(),4)*100,\"%\")"
   ]
  },
  {
   "cell_type": "code",
   "execution_count": 22,
   "metadata": {
    "ExecuteTime": {
     "end_time": "2020-01-30T16:39:57.196982Z",
     "start_time": "2020-01-30T16:39:56.993480Z"
    }
   },
   "outputs": [
    {
     "data": {
      "text/plain": [
       "Text(0.5, 1, 'Confusion Matrix')"
      ]
     },
     "execution_count": 22,
     "metadata": {},
     "output_type": "execute_result"
    },
    {
     "data": {
      "image/png": "[encoded data removed]",
      "text/plain": [
       "<Figure size 360x360 with 2 Axes>"
      ]
     },
     "metadata": {},
     "output_type": "display_data"
    }
   ],
   "source": [
    "pred = DT_model.predict(X)\n",
    "cm = confusion_matrix(Y, pred)\n",
    "\n",
    "columns = np.unique(Y)\n",
    "\n",
    "df_cm = pd.DataFrame(cm, index=columns, columns=columns)\n",
    "\n",
    "plt.figure(figsize=(5,5))\n",
    "sns.set(font_scale=1.4) # for label size\n",
    "ax = sns.heatmap(df_cm, annot=True, fmt='g',cmap='Blues',annot_kws={\"size\": 16}) # font size\n",
    "ax.set(xlabel='Actual Class', ylabel='Predicted Class')\n",
    "\n",
    "ax.set_title('Confusion Matrix')"
   ]
  },
  {
   "cell_type": "code",
   "execution_count": 49,
   "metadata": {
    "ExecuteTime": {
     "end_time": "2020-01-30T17:29:20.501616Z",
     "start_time": "2020-01-30T17:29:20.182208Z"
    }
   },
   "outputs": [
    {
     "name": "stdout",
     "output_type": "stream",
     "text": [
      "(1728, 21)\n",
      "['buying_price_high' 'buying_price_low' 'buying_price_med'\n",
      " 'buying_price_vhigh' 'maintenance_cost_high' 'maintenance_cost_low'\n",
      " 'maintenance_cost_med' 'maintenance_cost_vhigh' 'number_of_doors_2'\n",
      " 'number_of_doors_3' 'number_of_doors_4' 'number_of_doors_5more'\n",
      " 'number_of_persons_2' 'number_of_persons_4' 'number_of_persons_more'\n",
      " 'lug_boot_big' 'lug_boot_med' 'lug_boot_small' 'safety_high' 'safety_low'\n",
      " 'safety_med']\n"
     ]
    },
    {
     "data": {
      "text/plain": [
       "[Text(223.20000000000002, 190.26, 'safety_low <= 0.5\\nentropy = 0.457\\nsamples = 1728\\nvalue = [384, 69, 1210, 65]\\nclass = unacc'),\n",
       " Text(167.4, 135.9, 'number_of_persons_2 <= 0.5\\nentropy = 0.579\\nsamples = 1152\\nvalue = [384, 69, 634, 65]\\nclass = unacc'),\n",
       " Text(111.60000000000001, 81.53999999999999, 'maintenance_cost_vhigh <= 0.5\\nentropy = 0.629\\nsamples = 768\\nvalue = [384, 69, 250, 65]\\nclass = acc'),\n",
       " Text(55.800000000000004, 27.180000000000007, '\\n  (...)  \\n'),\n",
       " Text(167.4, 27.180000000000007, '\\n  (...)  \\n'),\n",
       " Text(223.20000000000002, 81.53999999999999, 'entropy = 0.0\\nsamples = 384\\nvalue = [0, 0, 384, 0]\\nclass = unacc'),\n",
       " Text(279.0, 135.9, 'entropy = 0.0\\nsamples = 576\\nvalue = [0, 0, 576, 0]\\nclass = unacc')]"
      ]
     },
     "execution_count": 49,
     "metadata": {},
     "output_type": "execute_result"
    },
    {
     "data": {
      "image/png": "[encoded data removed]",
      "text/plain": [
       "<Figure size 432x288 with 1 Axes>"
      ]
     },
     "metadata": {},
     "output_type": "display_data"
    }
   ],
   "source": [
    "from sklearn.preprocessing import OneHotEncoder\n",
    "\n",
    "a = df.drop('decision', axis=1)\n",
    "b = df['decision']\n",
    "\n",
    "# 1. INSTANTIATE\n",
    "enc = OneHotEncoder()\n",
    "\n",
    "# 2. FIT\n",
    "enc.fit(a)\n",
    "\n",
    "# 3. Transform\n",
    "onehotlabels = enc.transform(a).toarray()\n",
    "print(onehotlabels.shape)\n",
    "\n",
    "feature_name = enc.get_feature_names(a.columns)\n",
    "print(feature_name)\n",
    "\n",
    "clf = tree.DecisionTreeClassifier()\n",
    "clf = clf.fit(onehotlabels, b)\n",
    "\n",
    "tree.plot_tree(clf.fit(onehotlabels, b),\n",
    "               max_depth=2,\n",
    "               feature_names=feature_name,\n",
    "               class_names=np.unique(b),\n",
    "               filled=True)"
   ]
  },
  {
   "cell_type": "code",
   "execution_count": null,
   "metadata": {},
   "outputs": [],
   "source": []
  }
 ],
 "metadata": {
  "kernelspec": {
   "display_name": "Python 3",
   "language": "python",
   "name": "python3"
  },
  "language_info": {
   "codemirror_mode": {
    "name": "ipython",
    "version": 3
   },
   "file_extension": ".py",
   "mimetype": "text/x-python",
   "name": "python",
   "nbconvert_exporter": "python",
   "pygments_lexer": "ipython3",
   "version": "3.6.9"
  },
  "varInspector": {
   "cols": {
    "lenName": 16,
    "lenType": 16,
    "lenVar": 40
   },
   "kernels_config": {
    "python": {
     "delete_cmd_postfix": "",
     "delete_cmd_prefix": "del ",
     "library": "var_list.py",
     "varRefreshCmd": "print(var_dic_list())"
    },
    "r": {
     "delete_cmd_postfix": ") ",
     "delete_cmd_prefix": "rm(",
     "library": "var_list.r",
     "varRefreshCmd": "cat(var_dic_list()) "
    }
   },
   "oldHeight": 427.65666600000003,
   "position": {
    "height": "40px",
    "left": "861px",
    "right": "20px",
    "top": "122px",
    "width": "349.656px"
   },
   "types_to_exclude": [
    "module",
    "function",
    "builtin_function_or_method",
    "instance",
    "_Feature"
   ],
   "varInspector_section_display": "none",
   "window_display": true
  }
 },
 "nbformat": 4,
 "nbformat_minor": 2
}
